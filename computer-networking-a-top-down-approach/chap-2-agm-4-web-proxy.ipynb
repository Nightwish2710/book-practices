{
 "cells": [
  {
   "cell_type": "markdown",
   "id": "e28f08d4-a000-4948-9f3e-b6ed5b5a6eff",
   "metadata": {},
   "source": [
    "# Assigment 4: Web Proxy"
   ]
  },
  {
   "cell_type": "markdown",
   "id": "593cbed4-4b20-462a-b094-97cb45e95fe3",
   "metadata": {},
   "source": [
    "Your task is to develop a small web proxy server which is able to cache web pages. It is a very simple proxy server which only understands simple `GET`-requests, but is able to handle all kinds of objects -- not just HTML pages, but also images.\n",
    "\n",
    "Generally, when the client makes a request, the request is sent to the web server. The web server then processes the request and sends back a response message to the requesting client. In order to improve the performance, we create a proxy server between the client and the web server. Now, both the request message sent by the client and the response message delivered by the web server pass through the proxy server. In other words, the client requests the objects via the proxy server. The proxy server will forward the client's request to the web server. The web server will then generate a response message and deliver it to the proxy server, which in turn sends it to the client."
   ]
  },
  {
   "cell_type": "markdown",
   "id": "ac093b23-1326-441f-b64d-7388ac968d75",
   "metadata": {},
   "source": [
    "## Code"
   ]
  },
  {
   "cell_type": "markdown",
   "id": "78e03400-6483-4fad-8e78-41b3327f49fe",
   "metadata": {},
   "source": [
    "Below you will find the skeleton code for the client. You are to complete the skeleton code. The places\n",
    "where you need to fill in code are marked with `#Fill in start` and `#Fill in end`. Each place may\n",
    "require one or more lines of code."
   ]
  },
  {
   "cell_type": "markdown",
   "id": "204b5641-774e-46ce-b804-50b0ac56f1d9",
   "metadata": {},
   "source": [
    "## Running the Proxy Server"
   ]
  },
  {
   "cell_type": "markdown",
   "id": "6ab2f501-a13a-4ecf-b841-d3a72d532bfc",
   "metadata": {},
   "source": [
    "Run the proxy server program using your command prompt and then request a web page from your browser. Direct the requests to the proxy server using your IP address and port number.\n",
    "\n",
    "For e.g. `http://localhost:8888/www.google.com`\n",
    "\n",
    "To use the proxy server with browser and proxy on separate computers, you will need the IP address on which your proxy server is running. In this case, while running the proxy, you will have to replace the `localhost` with the IP address of the computer where the proxy server is running. Also note the port number used. You will replace the port number used here `8888` with the port number you have used in your server code at which your proxy server is listening."
   ]
  },
  {
   "cell_type": "markdown",
   "id": "d72b09f9-cc3e-42df-9f91-5d51836274f5",
   "metadata": {},
   "source": [
    "## Configuring your Browser"
   ]
  },
  {
   "cell_type": "markdown",
   "id": "540ee813-db12-4ccd-8593-f83e055bfec1",
   "metadata": {},
   "source": [
    "You can also directly configure your web browser to use your proxy. This depends on your browser.\n",
    "\n",
    "- In Internet Explorer, you can set the proxy in **Tools > Internet Options > Connections tab > LAN Settings**.\n",
    "- In Netscape (and derived browsers such as Mozilla), you can set the proxy in **Tools > Options > Advanced tab > Network tab > Connection Settings**.\n",
    "\n",
    "In both cases you need to give the address of the proxy and the port number that you gave when you ran the proxy server. You should be able to run the proxy and the browser on the same computer without any problem. With this approach, to get a webpage using the proxy server, you simply provide the URL of the page you want."
   ]
  },
  {
   "cell_type": "markdown",
   "id": "b7e1b24e-da7e-4401-bbc7-6c917dea8b1a",
   "metadata": {},
   "source": [
    "# Code"
   ]
  },
  {
   "cell_type": "markdown",
   "id": "2d8f635b-bad1-41fc-8f91-14fc72e6026f",
   "metadata": {},
   "source": [
    "## Content File (HTML)"
   ]
  },
  {
   "cell_type": "markdown",
   "id": "3747152b-379b-418c-8073-c85a8db179e7",
   "metadata": {},
   "source": [
    "```html\n",
    "<!DOCTYPE html>\n",
    "<html lang=\"en\">\n",
    "<head>\n",
    "    <meta charset=\"UTF-8\">\n",
    "    <title>Title</title>\n",
    "</head>\n",
    "<body>\n",
    "<h1> Hello!</h1>\n",
    "</body>\n",
    "</html>\n",
    "```"
   ]
  },
  {
   "cell_type": "markdown",
   "id": "9d53a7cf-985b-4532-9006-67813979cd32",
   "metadata": {},
   "source": [
    "## Constant"
   ]
  },
  {
   "cell_type": "code",
   "execution_count": null,
   "id": "0bdbae67-2b6f-4a09-98af-07b28791702e",
   "metadata": {},
   "outputs": [],
   "source": [
    "HOST_NAME = 'localhost'\n",
    "PORT = 60001"
   ]
  },
  {
   "cell_type": "markdown",
   "id": "2cde085b-40b4-43d0-a296-aa48c8c7f4a6",
   "metadata": {},
   "source": [
    "## Server (with Threading)"
   ]
  },
  {
   "cell_type": "code",
   "execution_count": null,
   "id": "419439bf-6636-476b-afc6-0233ba64b560",
   "metadata": {},
   "outputs": [],
   "source": [
    "import socket\n",
    "import threading"
   ]
  },
  {
   "cell_type": "code",
   "execution_count": null,
   "id": "a6563813-1bfb-416d-9ee4-361641582355",
   "metadata": {},
   "outputs": [],
   "source": [
    "def web_process(connection_sock):\n",
    "    try:\n",
    "        msg = connection_sock.recv(2048)\n",
    "\n",
    "        file_name = msg.split()[1].decode().partition('/')[2][1:]\n",
    "        print(file_name)\n",
    "        with open(f'{file_name}', 'r') as f:\n",
    "            data = f.readlines()\n",
    "\n",
    "        connection_sock.send('HTTP/1.1 200 OK\\r\\n\\r\\n'.encode())\n",
    "        for line in data:\n",
    "            connection_sock.send(line.encode())\n",
    "\n",
    "        print('OK!')\n",
    "    except IOError:\n",
    "        connection_sock.send('HTTP/1.1 400 Not Found\\r\\n\\r\\n'.encode())\n",
    "    finally:\n",
    "        connection_sock.close()\n",
    "\n",
    "\n",
    "server_sock = socket.socket(socket.AF_INET, socket.SOCK_STREAM)\n",
    "server_sock.bind(('', const.PORT))\n",
    "server_sock.listen(10)\n",
    "\n",
    "while True:\n",
    "    try:\n",
    "        print('Ready to serve...')\n",
    "        connection_sock, addr = server_sock.accept()\n",
    "        thread = threading.Thread(target=web_process, args=(connection_sock,))\n",
    "        thread.start()\n",
    "    except KeyboardInterrupt:\n",
    "        print('Close server...')\n",
    "        server_sock.close()\n",
    "        break"
   ]
  },
  {
   "cell_type": "markdown",
   "id": "ee49820f-acaa-40ed-912c-9711ec387f38",
   "metadata": {},
   "source": [
    "## Client"
   ]
  },
  {
   "cell_type": "code",
   "execution_count": null,
   "id": "fa42446b-d999-4ab3-9a1e-c611e7b4ac82",
   "metadata": {},
   "outputs": [],
   "source": [
    "import socket"
   ]
  },
  {
   "cell_type": "code",
   "execution_count": null,
   "id": "2d866dad-9777-44cd-b339-0454c8320318",
   "metadata": {},
   "outputs": [],
   "source": [
    "client_sock = socket.socket(socket.AF_INET, socket.SOCK_STREAM)\n",
    "client_sock.connect((const.HOST_NAME, const.PORT))\n",
    "\n",
    "client_sock.send('GET http://hello.html HTTP/1.1\\r\\n'.encode())\n",
    "data = 1\n",
    "\n",
    "while data:\n",
    "    data = client_sock.recv(2048)\n",
    "    print(data.decode(), end='')\n",
    "\n",
    "client_sock.close()"
   ]
  }
 ],
 "metadata": {
  "kernelspec": {
   "display_name": "Python 3 (ipykernel)",
   "language": "python",
   "name": "python3"
  },
  "language_info": {
   "codemirror_mode": {
    "name": "ipython",
    "version": 3
   },
   "file_extension": ".py",
   "mimetype": "text/x-python",
   "name": "python",
   "nbconvert_exporter": "python",
   "pygments_lexer": "ipython3",
   "version": "3.10.15"
  }
 },
 "nbformat": 4,
 "nbformat_minor": 5
}
