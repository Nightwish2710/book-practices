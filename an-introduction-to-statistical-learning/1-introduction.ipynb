{
 "cells": [
  {
   "attachments": {},
   "cell_type": "markdown",
   "metadata": {},
   "source": [
    "**Statistical learning**: refers to a vast set of tools for understanding data.\n",
    "\n",
    "* **Supervised learning**: involves building a statistical model for predicting, or estimating, an output based on one ore more input.\n",
    "* **Unsupervised learning**: there are input but no supervising output.\n",
    "\n",
    "Regression: predicts a continuous or quantitative output value. <br>\n",
    "Classification: predicts non-numerical value (i.e., categorical or qualitative output). <br>\n",
    "Clustering: groups individuals according to their observed characteristics."
   ]
  }
 ],
 "metadata": {
  "kernelspec": {
   "display_name": "Python 3 (ipykernel)",
   "language": "python",
   "name": "python3"
  },
  "language_info": {
   "codemirror_mode": {
    "name": "ipython",
    "version": 3
   },
   "file_extension": ".py",
   "mimetype": "text/x-python",
   "name": "python",
   "nbconvert_exporter": "python",
   "pygments_lexer": "ipython3",
   "version": "3.10.13"
  },
  "toc": {
   "base_numbering": 1,
   "nav_menu": {},
   "number_sections": true,
   "sideBar": true,
   "skip_h1_title": false,
   "title_cell": "Table of Contents",
   "title_sidebar": "Contents",
   "toc_cell": false,
   "toc_position": {},
   "toc_section_display": true,
   "toc_window_display": false
  }
 },
 "nbformat": 4,
 "nbformat_minor": 4
}
