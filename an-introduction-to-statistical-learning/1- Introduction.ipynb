{
 "cells": [
  {
   "cell_type": "code",
   "execution_count": 1,
   "metadata": {
    "hideCode": true,
    "hideOutput": true,
    "hidePrompt": true
   },
   "outputs": [
    {
     "data": {
      "text/html": [
       "<style>\n",
       "\n",
       ".CodeMirror pre {\n",
       "font-size: 10pt;\n",
       "}\n",
       "\n",
       "div.code_cell {\n",
       "font-size: 10pt;\n",
       "}\n",
       "\n",
       "div.cell { /* Tunes the space between cells */\n",
       "margin-top:0em;\n",
       "margin-bottom:0em;\n",
       "}\n",
       "\n",
       "div.text_cell_render h1 { /* Main titles bigger, centered */\n",
       "font-size:1.7em;\n",
       "line-height:1em;\n",
       "text-align:left;\n",
       "margin-top:-0.2em;\n",
       "margin-bottom:-0.2em;\n",
       "}\n",
       "\n",
       "div.text_cell_render h2 { /*  Parts names nearer from text */\n",
       "font-size:1.4em;\n",
       "margin-top:-0.2em;\n",
       "margin-bottom:-0.2em;\n",
       "}\n",
       "\n",
       "div.text_cell_render h3 { /*  Parts names nearer from text */\n",
       "font-size:1.1em;\n",
       "margin-top:-0.2em;\n",
       "margin-bottom:-0.2em;\n",
       "}\n",
       "\n",
       "div.text_cell_render { /* Customize text cells */\n",
       "font-size:9.5pt;\n",
       "line-height:130%;\n",
       "margin-top:-0.2em;\n",
       "margin-bottom:-0.2em;\n",
       "}\n",
       "</style>"
      ],
      "text/plain": [
       "<IPython.core.display.HTML object>"
      ]
     },
     "execution_count": 1,
     "metadata": {},
     "output_type": "execute_result"
    }
   ],
   "source": [
    "from IPython.core.display import HTML\n",
    "HTML(\"\"\"<style>\n",
    "\n",
    ".CodeMirror pre {\n",
    "font-size: 10pt;\n",
    "}\n",
    "\n",
    "div.code_cell {\n",
    "font-size: 10pt;\n",
    "}\n",
    "\n",
    "div.cell { /* Tunes the space between cells */\n",
    "margin-top:0em;\n",
    "margin-bottom:0em;\n",
    "}\n",
    "\n",
    "div.text_cell_render h1 { /* Main titles bigger, centered */\n",
    "font-size:1.7em;\n",
    "line-height:1em;\n",
    "text-align:left;\n",
    "margin-top:-0.2em;\n",
    "margin-bottom:-0.2em;\n",
    "}\n",
    "\n",
    "div.text_cell_render h2 { /*  Parts names nearer from text */\n",
    "font-size:1.4em;\n",
    "margin-top:-0.2em;\n",
    "margin-bottom:-0.2em;\n",
    "}\n",
    "\n",
    "div.text_cell_render h3 { /*  Parts names nearer from text */\n",
    "font-size:1.1em;\n",
    "margin-top:-0.2em;\n",
    "margin-bottom:-0.2em;\n",
    "}\n",
    "\n",
    "div.text_cell_render { /* Customize text cells */\n",
    "font-size:9.5pt;\n",
    "line-height:130%;\n",
    "margin-top:-0.2em;\n",
    "margin-bottom:-0.2em;\n",
    "}\n",
    "</style>\"\"\")"
   ]
  },
  {
   "attachments": {},
   "cell_type": "markdown",
   "metadata": {},
   "source": [
    "**Statistical learning**: refers to a vast set of tools for understanding data.\n",
    "\n",
    "* **Supervised learning**: involves building a statistical model for predicting, or estimating, an output based on one ore more input.\n",
    "* **Unsupervised learning**: there are input but no supervising output.\n",
    "\n",
    "Regression: predicts a continuous or quantitative output value. <br>\n",
    "Classification: predicts non-numerical value (i.e., categorical or qualitative output). <br>\n",
    "Clustering: groups individuals according to their observed characteristics."
   ]
  }
 ],
 "metadata": {
  "kernelspec": {
   "display_name": "Python 3",
   "language": "python",
   "name": "python3"
  },
  "language_info": {
   "codemirror_mode": {
    "name": "ipython",
    "version": 3
   },
   "file_extension": ".py",
   "mimetype": "text/x-python",
   "name": "python",
   "nbconvert_exporter": "python",
   "pygments_lexer": "ipython3",
   "version": "3.7.4"
  },
  "toc": {
   "base_numbering": 1,
   "nav_menu": {},
   "number_sections": true,
   "sideBar": true,
   "skip_h1_title": false,
   "title_cell": "Table of Contents",
   "title_sidebar": "Contents",
   "toc_cell": false,
   "toc_position": {},
   "toc_section_display": true,
   "toc_window_display": false
  }
 },
 "nbformat": 4,
 "nbformat_minor": 2
}
