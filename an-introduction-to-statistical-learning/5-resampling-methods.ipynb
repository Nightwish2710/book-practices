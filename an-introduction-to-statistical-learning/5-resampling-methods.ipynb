{
 "cells": [
  {
   "cell_type": "code",
   "execution_count": 1,
   "metadata": {
    "hideCode": true,
    "hideOutput": true,
    "hidePrompt": true
   },
   "outputs": [
    {
     "data": {
      "text/html": [
       "<style>\n",
       "\n",
       ".CodeMirror pre {\n",
       "font-size: 10pt;\n",
       "}\n",
       "\n",
       "div.code_cell {\n",
       "font-size: 10pt;\n",
       "}\n",
       "\n",
       "div.cell { /* Tunes the space between cells */\n",
       "margin-top:0em;\n",
       "margin-bottom:0em;\n",
       "}\n",
       "\n",
       "div.text_cell_render h1 { /* Main titles bigger, centered */\n",
       "font-size:1.7em;\n",
       "line-height:1em;\n",
       "text-align:left;\n",
       "margin-top:-0.2em;\n",
       "margin-bottom:-0.2em;\n",
       "}\n",
       "\n",
       "div.text_cell_render h2 { /*  Parts names nearer from text */\n",
       "font-size:1.4em;\n",
       "margin-top:-0.2em;\n",
       "margin-bottom:-0.2em;\n",
       "}\n",
       "\n",
       "div.text_cell_render h3 { /*  Parts names nearer from text */\n",
       "font-size:1.1em;\n",
       "margin-top:-0.2em;\n",
       "margin-bottom:-0.2em;\n",
       "}\n",
       "\n",
       "div.text_cell_render { /* Customize text cells */\n",
       "font-size:9.5pt;\n",
       "line-height:130%;\n",
       "margin-top:-0.2em;\n",
       "margin-bottom:-0.2em;\n",
       "}\n",
       "</style>"
      ],
      "text/plain": [
       "<IPython.core.display.HTML object>"
      ]
     },
     "execution_count": 1,
     "metadata": {},
     "output_type": "execute_result"
    }
   ],
   "source": [
    "from IPython.core.display import HTML\n",
    "HTML(\"\"\"<style>\n",
    "\n",
    ".CodeMirror pre {\n",
    "font-size: 10pt;\n",
    "}\n",
    "\n",
    "div.code_cell {\n",
    "font-size: 10pt;\n",
    "}\n",
    "\n",
    "div.cell { /* Tunes the space between cells */\n",
    "margin-top:0em;\n",
    "margin-bottom:0em;\n",
    "}\n",
    "\n",
    "div.text_cell_render h1 { /* Main titles bigger, centered */\n",
    "font-size:1.7em;\n",
    "line-height:1em;\n",
    "text-align:left;\n",
    "margin-top:-0.2em;\n",
    "margin-bottom:-0.2em;\n",
    "}\n",
    "\n",
    "div.text_cell_render h2 { /*  Parts names nearer from text */\n",
    "font-size:1.4em;\n",
    "margin-top:-0.2em;\n",
    "margin-bottom:-0.2em;\n",
    "}\n",
    "\n",
    "div.text_cell_render h3 { /*  Parts names nearer from text */\n",
    "font-size:1.1em;\n",
    "margin-top:-0.2em;\n",
    "margin-bottom:-0.2em;\n",
    "}\n",
    "\n",
    "div.text_cell_render { /* Customize text cells */\n",
    "font-size:9.5pt;\n",
    "line-height:130%;\n",
    "margin-top:-0.2em;\n",
    "margin-bottom:-0.2em;\n",
    "}\n",
    "</style>\"\"\")"
   ]
  },
  {
   "cell_type": "markdown",
   "metadata": {},
   "source": [
    "**Model assessment**: the process of evaluating a model's preformance. <br>\n",
    "**Model selection**: the process of selecting the proper level of flexibility for a model."
   ]
  },
  {
   "cell_type": "markdown",
   "metadata": {},
   "source": [
    "# Cross-validation"
   ]
  },
  {
   "cell_type": "markdown",
   "metadata": {},
   "source": [
    "## The validation set approach"
   ]
  },
  {
   "cell_type": "markdown",
   "metadata": {},
   "source": [
    "<img src=\"images/5.2.PNG\" style=\"float:right;margin-left:20px\" width=\"270px\">\n",
    "\n",
    "Suppose that we would like to estimate the test error associated with fitting a particular statistical learning method on a set of observations.\n",
    "\n",
    "**Validation set approach**: The model is fit on the training set, and the fitted model is used to predict the resonses for the oservations in the validation set. The resulting validation set error rate provides an estimate of the test error rate.\n",
    "\n",
    "Potential drawacks:\n",
    "* The validation estimate of the test error rate can be highly variable, depending on precisely which observations are included in the training set and which observations are included in the validation set.\n",
    "* Only a subset of the observations are used to fit the model. $\\Rightarrow$ validation set error rate may tend to overestimate the test error rate for the model fit on the entire data set."
   ]
  },
  {
   "cell_type": "markdown",
   "metadata": {},
   "source": [
    "## Leave-one-out cross-validation (LOOCV)"
   ]
  },
  {
   "cell_type": "markdown",
   "metadata": {},
   "source": [
    "<img src=\"images/5.4.PNG\" style=\"float:right;margin-left:20px\" width=\"270px\">\n",
    "\n",
    "**LOOCV** involves:\n",
    "1. Splitting the set of observations into two parts: a single observation $(x_1,y_1)$ is used for the validation set, and the ramaining observations $\\{(x_2,y_2),...,(x_n,y_n)\\}$ make up the training set.\n",
    "2. Calculating the $\\text{MSE}_1 = (y_1 - \\hat{y}_1)^2$.\n",
    "3. Repeat the previous 2 steps $n-1$ more times, each time using a different observation for validation set.\n",
    "\n",
    "$\\Rightarrow$ produce $n$ squared errors, $\\text{MSE}_1,...,\\text{MSE}_n$.\n",
    "\n",
    "LOOCV's MSE: \n",
    "$\\text{CV}_{(n)} = \\dfrac{1}{n} \\sum\\limits_{i=1}^n{\\text{MSE}_i}$\n",
    "\n",
    "Advantages: less bias, no randomness involves, and can be used with any kind of\n",
    "predictive modeling. <br>\n",
    "Disadvantage: expensive calculation.\n",
    "\n",
    "A shortcut makes the cost of LOOCV the same as that of a single model fit (only applied for linear models fit by least squares):\n",
    "\n",
    "$$\\text{CV}_{(n)} = \\dfrac{1}{n} \\sum\\limits_{i=1}^n{\\left(\\dfrac{y_i-\\hat{y}_i}{1 - h_i}\\right)^2}$$\n",
    "\n",
    "&emsp;where: $\\bullet\\hspace{0.2cm}$$\\hat{y}_i$: the $i$th fitted value from the original least squares fit <br>\n",
    "&emsp;$\\hspace{1.1cm}\\bullet\\hspace{0.2cm}$$h_i$: the leverage \n",
    "$h_i = \\dfrac{1}{n} + \\dfrac{(x_i - \\bar{x})^2}{\\sum_{i'=1}^n{(x_{i'}-\\bar{x})^2}}$\n",
    "reflects the amount that an observation influences its own fit"
   ]
  },
  {
   "cell_type": "markdown",
   "metadata": {},
   "source": [
    "## $k$-fold cross validation"
   ]
  },
  {
   "cell_type": "markdown",
   "metadata": {},
   "source": [
    "**$k$-fold** involves:\n",
    "1. Randomly divides the set of observations into $k$ groups, or folds, approximately equal size.\n",
    "2. Use 1 fold as a validation set while the rest of the folds be the training set.\n",
    "3. Repeat the 2 previous step $k-1$ more times, each time use a different fold for validation set.\n",
    "\n",
    "$\\Rightarrow$ produce $k$ squared errors, $\\text{MSE}_1,...,\\text{MSE}_k$.\n",
    "\n",
    "$k$-fold's MSE:\n",
    "$\\text{CV}_{(k)} = \\dfrac{1}{k} \\sum\\limits_{i=1}^k{\\text{MSE}_i}$\n",
    "\n",
    "Advantage: less computation time.\n",
    "\n",
    "Comparing the flexibility of LOOCV and 10-fold CV on 3 simulated data sets:\n",
    "\n",
    "<img src=\"images/5.6.PNG\" width=\"700px\">\n",
    "\n",
    "Sometimes we are interested in the location of the minimum point in the estimated test MSE curve, which reflex the approximate flexibility level of the statistical learning method(s)."
   ]
  },
  {
   "cell_type": "markdown",
   "metadata": {},
   "source": [
    "### Bias-variance trade-off for $k$-fold cross validation"
   ]
  },
  {
   "cell_type": "markdown",
   "metadata": {},
   "source": [
    "LOOCV:\n",
    "* gives approximately unbiased estimates of the test set error, since each training set contains $n-1$ observations, which is almost as many as the number of observations in the full data set.\n",
    "* has high correlation between the sets because each set is almost identical to other sets.\n",
    "\n",
    "$k$-fold CV:\n",
    "* has an intermediate level of bias, since each training set contains $(k-1)n/k$ observations.\n",
    "* has lower correlation between the sets.\n",
    "\n",
    "$\\Rightarrow$ given these considerations, one performs $k$-fold cross-validation using $k=5$ or $k=10$, as these values have been shown empirically to yield test error rate estimates that suffer neither from excessively high bias nor from very high variance."
   ]
  },
  {
   "cell_type": "markdown",
   "metadata": {},
   "source": [
    "## Cross-validation on classification problems"
   ]
  },
  {
   "cell_type": "markdown",
   "metadata": {},
   "source": [
    "CV can be used for classification, but instead of MSE to quantify test error, instead use the number of misclassified observation.\n",
    "\n",
    "LOOCV: $\\text{CV}_{(n)} = \\dfrac{1}{n} \\sum\\limits_{i=1}^n{\\text{Err}_i} \\hspace{1cm}$\n",
    "where $\\text{Err}_i = I(y_i \\neq \\hat{y}_i)$.\n",
    "\n",
    "The $k$-fold CV error rate and validation set error rates are defined analogously."
   ]
  },
  {
   "cell_type": "markdown",
   "metadata": {},
   "source": [
    "# The bootstrap"
   ]
  },
  {
   "cell_type": "markdown",
   "metadata": {},
   "source": [
    "Suppose that we wish to invest a fixed sum of money in 2 financial assets that yield returns of $X$ and $Y$ where both are random quantities. We will invest a fraction $\\alpha$ of our money in $X$ and the remaining $1-\\alpha$ will go to $Y$.\n",
    "\n",
    "We want to minimize $\\text{Var}(\\alpha X + (1-\\alpha)Y)$.\n",
    "\n",
    "The value that minimizes the risk is given by:\n",
    "$\\alpha = \\dfrac{\\sigma_Y^2 - \\sigma_{XY}}{\\sigma_X^2 + \\sigma_Y^2 - 2\\sigma_{XY}}$\n",
    "\n",
    "&emsp;where $\\sigma_X^2 = \\text{Var}(X)$, $\\sigma_Y^2 = \\text{Var}(Y)$, and $\\sigma_{XY} = \\text{Cov}(X,Y)$.\n",
    "\n",
    "Since we don't know $\\sigma_X^2$, $\\sigma_Y^2$, and $\\sigma_{XY}$ in reality, we can compute the estimates for these quantities."
   ]
  }
 ],
 "metadata": {
  "kernelspec": {
   "display_name": "Python 3",
   "language": "python",
   "name": "python3"
  },
  "language_info": {
   "codemirror_mode": {
    "name": "ipython",
    "version": 3
   },
   "file_extension": ".py",
   "mimetype": "text/x-python",
   "name": "python",
   "nbconvert_exporter": "python",
   "pygments_lexer": "ipython3",
   "version": "3.7.4"
  },
  "toc": {
   "base_numbering": 1,
   "nav_menu": {},
   "number_sections": true,
   "sideBar": true,
   "skip_h1_title": false,
   "title_cell": "Table of Contents",
   "title_sidebar": "Contents",
   "toc_cell": false,
   "toc_position": {},
   "toc_section_display": true,
   "toc_window_display": false
  }
 },
 "nbformat": 4,
 "nbformat_minor": 2
}
